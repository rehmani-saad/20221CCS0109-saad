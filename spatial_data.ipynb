{
  "nbformat": 4,
  "nbformat_minor": 0,
  "metadata": {
    "colab": {
      "provenance": []
    },
    "kernelspec": {
      "name": "python3",
      "display_name": "Python 3"
    },
    "language_info": {
      "name": "python"
    }
  },
  "cells": [
    {
      "cell_type": "code",
      "execution_count": null,
      "metadata": {
        "id": "O9gglmkXANh0"
      },
      "outputs": [],
      "source": [
        "!pip install folium"
      ]
    },
    {
      "cell_type": "code",
      "source": [
        "import folium\n",
        "bangalore_map = folium.Map(location = [12.9716,77.5946],\n",
        "                   width =950,\n",
        "                   heigth = 550,\n",
        "                   zoom_start = 12,\n",
        "                   titles ='openstreetmaps')\n",
        "bangalore_map"
      ],
      "metadata": {
        "id": "eNF9o6ZTA30S"
      },
      "execution_count": null,
      "outputs": []
    },
    {
      "cell_type": "code",
      "source": [
        "locations = [[12.9767, 77.5959], [12.9507, 77.5848], [12.9985, 77.5929], [12.9794, 77.5906], [12.8000, 77.5770], [13.0103, 77.5510], [12.9716, 77.5963], [12.9817, 77.6129], [13.1986, 77.7066], [12.8352, 77.4010]]\n",
        "image_urls = [\n",
        "    'https://bengaluruprayana.com/wp-content/uploads/2023/02/Cubbon-Park.jpeg',\n",
        "    'https://media.tacdn.com/media/attractions-splice-spp-674x446/0b/27/ab/d0.jpg',\n",
        "    'https://upload.wikimedia.org/wikipedia/commons/8/8f/Bangalore_Mysore_Maharaja_Palace.jpg',\n",
        "    'https://upload.wikimedia.org/wikipedia/commons/thumb/1/11/Vidhana_Soudha%2C_14_February_2022_-_cropped.jpg/1200px-Vidhana_Soudha%2C_14_February_2022_-_cropped.jpg',\n",
        "    'https://www.electronic-city.in/images/places/bbp-250.jpg',\n",
        "    'https://www.trawell.in/admin/images/upload/148027305ISKCONTemple_Main.jpg',\n",
        "    'https://img.staticmb.com/mbcontent/images/crop/uploads/2023/2/Ub-city-mall-featured-image%20(1)_0_1200.jpg',\n",
        "    'https://yometro.com/images/places/commercial-street.jpg',\n",
        "    'https://www.airport-technology.com/wp-content/uploads/sites/14/2020/06/Feature_Image-Kempegowda_International_Airport1.jpg',\n",
        "    'https://static.trip101.com/paragraph_media/pictures/001/780/410/large/Wondela_Banglore.jpg?1578493583'\n",
        "]\n"
      ],
      "metadata": {
        "id": "1EN7FaxeNwn3"
      },
      "execution_count": 15,
      "outputs": []
    },
    {
      "cell_type": "code",
      "source": [
        "for loc, img_url in zip(locations, image_urls):\n",
        "    html = f'<img src=\"{img_url}\" alt=\"Image\" style=\"width:200px;height:200px;\">'\n",
        "    folium.Marker(location=loc, popup=folium.Popup(html, max_width=300)).add_to(bangalore_map)\n",
        "\n",
        "\n",
        "\n",
        "bangalore_map"
      ],
      "metadata": {
        "id": "6FYXQZwFN0tW"
      },
      "execution_count": null,
      "outputs": []
    }
  ]
}