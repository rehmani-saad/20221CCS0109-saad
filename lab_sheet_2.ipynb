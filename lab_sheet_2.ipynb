{
  "nbformat": 4,
  "nbformat_minor": 0,
  "metadata": {
    "colab": {
      "provenance": []
    },
    "kernelspec": {
      "name": "python3",
      "display_name": "Python 3"
    },
    "language_info": {
      "name": "python"
    }
  },
  "cells": [
    {
      "cell_type": "code",
      "execution_count": null,
      "metadata": {
        "id": "-affPZ5BtT2k"
      },
      "outputs": [],
      "source": [
        "import pandas as pd\n"
      ]
    },
    {
      "cell_type": "code",
      "source": [
        "df =pd.read_csv(\"/content/drive/MyDrive/Data set/data (1).csv\")\n",
        "print(df.head())"
      ],
      "metadata": {
        "id": "QYU4FEJEt6p4"
      },
      "execution_count": null,
      "outputs": []
    },
    {
      "cell_type": "code",
      "source": [
        "df.shape"
      ],
      "metadata": {
        "colab": {
          "base_uri": "https://localhost:8080/"
        },
        "id": "R3JTLzaRuK8w",
        "outputId": "e3e79681-09ed-4e90-8c35-b6ed67cfdda0"
      },
      "execution_count": null,
      "outputs": [
        {
          "output_type": "execute_result",
          "data": {
            "text/plain": [
              "(169, 4)"
            ]
          },
          "metadata": {},
          "execution_count": 5
        }
      ]
    },
    {
      "cell_type": "code",
      "source": [
        "print (df.to_markdown())"
      ],
      "metadata": {
        "id": "U_NKLkFzuNSd"
      },
      "execution_count": null,
      "outputs": []
    },
    {
      "cell_type": "code",
      "source": [],
      "metadata": {
        "id": "wEU6EX20y1tP"
      },
      "execution_count": null,
      "outputs": []
    },
    {
      "cell_type": "code",
      "source": [],
      "metadata": {
        "id": "3y7QDpRey2MO"
      },
      "execution_count": null,
      "outputs": []
    },
    {
      "cell_type": "code",
      "source": [
        "df.isnull().sum()"
      ],
      "metadata": {
        "id": "CfS76r8Wvtmm"
      },
      "execution_count": null,
      "outputs": []
    },
    {
      "cell_type": "code",
      "source": [
        "df.fillna(130,inplace=True)"
      ],
      "metadata": {
        "id": "DTvutkHYyfXu"
      },
      "execution_count": null,
      "outputs": []
    },
    {
      "cell_type": "code",
      "source": [
        "print (df.to_markdown())"
      ],
      "metadata": {
        "id": "slU-qIiXy3Tv"
      },
      "execution_count": null,
      "outputs": []
    },
    {
      "cell_type": "code",
      "source": [
        "df =pd.read_csv(\"/content/drive/MyDrive/Data set/data (1).csv\")\n",
        "print(df.head())"
      ],
      "metadata": {
        "id": "vHkMMFmFy4jG"
      },
      "execution_count": null,
      "outputs": []
    },
    {
      "cell_type": "code",
      "source": [
        "x = df[\"Calories\"].mode()[0]\n",
        "df.fillna(x,inplace=True)"
      ],
      "metadata": {
        "id": "9E2ssQyhzroP"
      },
      "execution_count": null,
      "outputs": []
    },
    {
      "cell_type": "code",
      "source": [
        "df =pd.read_csv(\"/content/drive/MyDrive/Data set/data (1).csv\")\n",
        "print(df.head())"
      ],
      "metadata": {
        "id": "38Majiul1m5-"
      },
      "execution_count": null,
      "outputs": []
    },
    {
      "cell_type": "code",
      "source": [
        "x=df[\"Calories\"].mean()\n",
        "df.fillna(x,inplace=True)"
      ],
      "metadata": {
        "id": "IF6NxsU91Ehf"
      },
      "execution_count": null,
      "outputs": []
    },
    {
      "cell_type": "code",
      "source": [
        "print (df.to_markdown())"
      ],
      "metadata": {
        "id": "fAqlDfYn1ZeH"
      },
      "execution_count": null,
      "outputs": []
    },
    {
      "cell_type": "code",
      "source": [
        "df =pd.read_csv(\"/content/drive/MyDrive/Data set/data (1).csv\")\n",
        "print(df.head())"
      ],
      "metadata": {
        "id": "Lc3f0BFT2BRA"
      },
      "execution_count": null,
      "outputs": []
    },
    {
      "cell_type": "code",
      "source": [
        "x = df[\"Calories\"].median()\n",
        "df.fillna(x,inplace=True)"
      ],
      "metadata": {
        "id": "9cfxxlon2F32"
      },
      "execution_count": null,
      "outputs": []
    },
    {
      "cell_type": "code",
      "source": [
        "print (df.to_markdown())"
      ],
      "metadata": {
        "id": "1matJeIe2Kg_"
      },
      "execution_count": null,
      "outputs": []
    },
    {
      "cell_type": "code",
      "source": [
        "df.corr()"
      ],
      "metadata": {
        "id": "9WxFBk-f6L2_"
      },
      "execution_count": null,
      "outputs": []
    },
    {
      "cell_type": "code",
      "source": [
        "df.drop_duplicates(inplace = True)"
      ],
      "metadata": {
        "id": "kEp2FA6c6zyu"
      },
      "execution_count": null,
      "outputs": []
    },
    {
      "cell_type": "code",
      "source": [
        "df.shape"
      ],
      "metadata": {
        "id": "ptErdESO6-6e"
      },
      "execution_count": null,
      "outputs": []
    },
    {
      "cell_type": "code",
      "source": [
        "\n",
        "\n",
        "df =pd.read_csv(\"/content/drive/MyDrive/Data set/BL-Flickr-Images-Book.csv\")"
      ],
      "metadata": {
        "id": "C3o9IxNw725v"
      },
      "execution_count": null,
      "outputs": []
    },
    {
      "cell_type": "code",
      "source": [
        "print(df.head())"
      ],
      "metadata": {
        "id": "UrZMjrTZ8Moe"
      },
      "execution_count": null,
      "outputs": []
    },
    {
      "cell_type": "code",
      "source": [
        "print(df.loc[0])"
      ],
      "metadata": {
        "id": "zpPna2ck9MXY"
      },
      "execution_count": null,
      "outputs": []
    },
    {
      "cell_type": "code",
      "source": [
        "print(df.loc[0])"
      ],
      "metadata": {
        "colab": {
          "base_uri": "https://localhost:8080/"
        },
        "id": "9HC960ru91Zw",
        "outputId": "3197086e-7702-49ea-f9d1-d91bcd9f9bd3"
      },
      "execution_count": null,
      "outputs": [
        {
          "output_type": "stream",
          "name": "stdout",
          "text": [
            "Identifier                                                              206\n",
            "Edition Statement                                                       NaN\n",
            "Place of Publication                                                 London\n",
            "Date of Publication                                             1879 [1878]\n",
            "Publisher                                                  S. Tinsley & Co.\n",
            "Title                                     Walter Forbes. [A novel.] By A. A\n",
            "Author                                                                A. A.\n",
            "Contributors                                                FORBES, Walter.\n",
            "Corporate Author                                                        NaN\n",
            "Corporate Contributors                                                  NaN\n",
            "Former owner                                                            NaN\n",
            "Engraver                                                                NaN\n",
            "Issuance type                                                   monographic\n",
            "Flickr URL                http://www.flickr.com/photos/britishlibrary/ta...\n",
            "Shelfmarks                                British Library HMNTS 12641.b.30.\n",
            "Name: 0, dtype: object\n"
          ]
        }
      ]
    }
  ]
}